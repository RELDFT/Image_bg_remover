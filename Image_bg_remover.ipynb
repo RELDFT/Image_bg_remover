{
  "nbformat": 4,
  "nbformat_minor": 0,
  "metadata": {
    "colab": {
      "provenance": [],
      "authorship_tag": "ABX9TyNJJs4w2nQHEZ0hwH67IUB9",
      "include_colab_link": true
    },
    "kernelspec": {
      "name": "python3",
      "display_name": "Python 3"
    },
    "language_info": {
      "name": "python"
    }
  },
  "cells": [
    {
      "cell_type": "markdown",
      "metadata": {
        "id": "view-in-github",
        "colab_type": "text"
      },
      "source": [
        "<a href=\"https://colab.research.google.com/github/RELDFT/Image_bg_remover/blob/main/Image_bg_remover.ipynb\" target=\"_parent\"><img src=\"https://colab.research.google.com/assets/colab-badge.svg\" alt=\"Open In Colab\"/></a>"
      ]
    },
    {
      "cell_type": "markdown",
      "source": [
        "# Background Image Remover:\n",
        "\n",
        "For this python program input can be anything but output should be in .png formate and file should be already exist in specified path.\n"
      ],
      "metadata": {
        "id": "UnsI37Hoj8qI"
      }
    },
    {
      "cell_type": "code",
      "execution_count": null,
      "metadata": {
        "id": "y5RHzBeUfg9K"
      },
      "outputs": [],
      "source": [
        "# downloading the image remover package.\n",
        "!pip install rembg"
      ]
    },
    {
      "cell_type": "code",
      "source": [
        "# Iimporting remove function from rembg for removing background image.\n",
        "from rembg import remove\n",
        "# Importing Image function from PIL for image reading.\n",
        "from PIL import Image\n",
        "\n",
        "# Input can have any formate like jpg, jpeg, png, etc. But, output should be\n",
        "# in png formate.\n",
        "input_path = './Canada_goose_flight_cropped_and_NR.jpg'\n",
        "# specified input and output file should exist in above path.\n",
        "output_path = './bird.png'\n",
        "\n",
        "# Reading image, removing background and saving file to output path.\n",
        "input = Image.open(input_path)\n",
        "output = remove(input)\n",
        "output.save(output_path)\n",
        "\n",
        "# Pop for output generation.\n",
        "print(f\"Output is created and saved at {output_path}.\")"
      ],
      "metadata": {
        "id": "4xfCXM_yfpjJ"
      },
      "execution_count": null,
      "outputs": []
    }
  ]
}